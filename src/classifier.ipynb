{
 "cells": [
  {
   "cell_type": "code",
   "execution_count": 7,
   "metadata": {},
   "outputs": [],
   "source": [
    "import sys\n",
    "import csv\n",
    "import json\n",
    "import re\n",
    "from dataclasses import dataclass, field, asdict\n",
    "from typing import List"
   ]
  },
  {
   "cell_type": "code",
   "execution_count": 8,
   "metadata": {},
   "outputs": [],
   "source": [
    "@dataclass\n",
    "class Review:\n",
    "    id: int\n",
    "    content: str\n",
    "    gender: str\n",
    "\n",
    "@dataclass\n",
    "class FragranceData:\n",
    "    reviews: List[Review] = field(default_factory=list)\n",
    "\n",
    "    def add_review(self, review: Review):\n",
    "        self.reviews.append(review)"
   ]
  },
  {
   "cell_type": "code",
   "execution_count": 9,
   "metadata": {},
   "outputs": [],
   "source": [
    "def extract_gender(title: str) -> str:\n",
    "    \"\"\"extraire le genre du titre du parfum\"\"\"\n",
    "    title = title.lower().strip()\n",
    "    if title.endswith(\"for men\"):\n",
    "        return \"male\"\n",
    "    elif title.endswith(\"for women\"):\n",
    "        return \"female\"\n",
    "    elif title.endswith(\"for women and men\"):\n",
    "        return \"unisex\"\n",
    "    else:\n",
    "        return \"unknown\"\n",
    "\n",
    "def clean_review(text: str) -> str:\n",
    "    \"\"\"masquer les mots clé de genre dans les reviews\"\"\"\n",
    "    text = text.lower()\n",
    "    gendered_words = [\"for men\", \"for women\", \"unisex\", \"pour homme\", \"pour femme\", \"male\", \"female\", \"man\", \"woman\", \"boy\", \"girl\"]\n",
    "    for word in gendered_words:\n",
    "        text = re.sub(r'\\b' + word + r'\\b', \"[MASK]\", text)\n",
    "    return text\n",
    "\n",
    "def process_csv(file_path: str, output_json: str) -> None:\n",
    "    \"\"\"process CSV -> JSON output\"\"\"\n",
    "    fragrance_data = FragranceData()\n",
    "    \n",
    "    with open(file_path, mode=\"r\", encoding=\"utf-8\") as csv_file:\n",
    "        reader = csv.DictReader(csv_file)\n",
    "        review_id = 1  \n",
    "        \n",
    "        for row in reader:\n",
    "            #prendre les champs nécessaires\n",
    "            title = row.get(\"title\", \"\")\n",
    "            reviews = row.get(\"reviews\", \"[]\")\n",
    "            reviews = eval(reviews) if reviews else []\n",
    "            \n",
    "            #déterminer le genre en fonction du titre\n",
    "            gender = extract_gender(title)\n",
    "            \n",
    "            for review_text in reviews:\n",
    "                if review_text:\n",
    "                    #nettoyer et masquer les mots clés de genre\n",
    "                    cleaned_text = clean_review(review_text)\n",
    "                    review = Review(id=review_id, content=cleaned_text, gender=gender)\n",
    "                    fragrance_data.add_review(review)\n",
    "                    review_id += 1  #incrémenter le compteur pour id\n",
    "    \n",
    "    #écrire le fichier au format JSON\n",
    "    with open(output_json, mode=\"w\", encoding=\"utf-8\") as json_file:\n",
    "        json.dump([asdict(review) for review in fragrance_data.reviews], json_file, indent=2, ensure_ascii=False)\n"
   ]
  },
  {
   "cell_type": "code",
   "execution_count": 11,
   "metadata": {},
   "outputs": [],
   "source": [
    "#augmenter la taille limite du csv\n",
    "csv.field_size_limit(sys.maxsize)\n",
    "#process le csv pour obtenir le fichier clean en JSON\n",
    "csv_file_path = \"../data/raw/perfumes_table.csv\"\n",
    "output_json_path = \"../data/clean/cleaned_data.json\"\n",
    "process_csv(csv_file_path, output_json_path)"
   ]
  },
  {
   "cell_type": "code",
   "execution_count": null,
   "metadata": {},
   "outputs": [],
   "source": [
    "#visualisation graphique de la distribution des reviews"
   ]
  }
 ],
 "metadata": {
  "kernelspec": {
   "display_name": "base",
   "language": "python",
   "name": "python3"
  },
  "language_info": {
   "codemirror_mode": {
    "name": "ipython",
    "version": 3
   },
   "file_extension": ".py",
   "mimetype": "text/x-python",
   "name": "python",
   "nbconvert_exporter": "python",
   "pygments_lexer": "ipython3",
   "version": "3.9.18"
  }
 },
 "nbformat": 4,
 "nbformat_minor": 2
}
