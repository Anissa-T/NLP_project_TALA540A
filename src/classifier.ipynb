{
 "cells": [
  {
   "cell_type": "markdown",
   "metadata": {},
   "source": [
    "# Examen Projet NLP TALA540A "
   ]
  },
  {
   "cell_type": "markdown",
   "metadata": {},
   "source": [
    "## Auteurs :\n",
    "- AROUN Jeevya\n",
    "- NGAUV Nicolas\n",
    "- THEZENAS Anissa"
   ]
  },
  {
   "cell_type": "code",
   "execution_count": 1,
   "metadata": {},
   "outputs": [],
   "source": [
    "import sys\n",
    "import csv\n",
    "import json\n",
    "import re\n",
    "from dataclasses import dataclass, field, asdict\n",
    "from typing import List"
   ]
  },
  {
   "cell_type": "code",
   "execution_count": 13,
   "metadata": {},
   "outputs": [],
   "source": [
    "@dataclass\n",
    "class Review:\n",
    "    id: int\n",
    "    content: str\n",
    "    gender: str\n",
    "\n",
    "@dataclass\n",
    "class FragranceData:\n",
    "    reviews: List[Review] = field(default_factory=list)\n",
    "\n",
    "    def add_review(self, review: Review):\n",
    "        self.reviews.append(review)"
   ]
  },
  {
   "cell_type": "code",
   "execution_count": 14,
   "metadata": {},
   "outputs": [],
   "source": [
    "def extract_gender(title: str) -> str:\n",
    "    \"\"\"extraire le genre du titre du parfum\"\"\"\n",
    "    title = title.lower().strip()\n",
    "    if title.endswith(\"for men\"):\n",
    "        return \"male\"\n",
    "    elif title.endswith(\"for women\"):\n",
    "        return \"female\"\n",
    "    elif title.endswith(\"for women and men\"):\n",
    "        return \"unisex\"\n",
    "    else:\n",
    "        return \"unknown\"\n",
    "\n",
    "def clean_review(text: str) -> str:\n",
    "    \"\"\"masquer les mots clé de genre dans les reviews\"\"\"\n",
    "    text = text.lower()\n",
    "    gendered_words = [\"for men\", \"for women\", \"unisex\", \"pour homme\", \"pour femme\", \"male\", \"female\", \"man\", \"woman\", \"boy\", \"girl\"]\n",
    "    for word in gendered_words:\n",
    "        text = re.sub(r'\\b' + word + r'\\b', \"[MASK]\", text)\n",
    "    return text\n",
    "\n",
    "def process_csv(file_path: str, output_json: str) -> None:\n",
    "    \"\"\"process CSV -> JSON output\"\"\"\n",
    "    fragrance_data = FragranceData()\n",
    "    \n",
    "    with open(file_path, mode=\"r\", encoding=\"utf-8\") as csv_file:\n",
    "        reader = csv.DictReader(csv_file)\n",
    "        review_id = 1  \n",
    "        \n",
    "        for row in reader:\n",
    "            #prendre les champs nécessaires\n",
    "            title = row.get(\"title\", \"\")\n",
    "            reviews = row.get(\"reviews\", \"[]\")\n",
    "            reviews = eval(reviews) if reviews else []\n",
    "            \n",
    "            #déterminer le genre en fonction du titre\n",
    "            gender = extract_gender(title)\n",
    "            \n",
    "            for review_text in reviews:\n",
    "                if review_text:\n",
    "                    #nettoyer et masquer les mots clés de genre\n",
    "                    cleaned_text = clean_review(review_text)\n",
    "                    review = Review(id=review_id, content=cleaned_text, gender=gender)\n",
    "                    fragrance_data.add_review(review)\n",
    "                    review_id += 1  #incrémenter le compteur pour id\n",
    "    \n",
    "    #écrire le fichier au format JSON\n",
    "    with open(output_json, mode=\"w\", encoding=\"utf-8\") as json_file:\n",
    "        json.dump([asdict(review) for review in fragrance_data.reviews], json_file, indent=2, ensure_ascii=False)\n"
   ]
  },
  {
   "cell_type": "code",
   "execution_count": 15,
   "metadata": {},
   "outputs": [],
   "source": [
    "#augmenter la taille limite du csv\n",
    "csv.field_size_limit(sys.maxsize)\n",
    "#process le csv pour obtenir le fichier clean en JSON\n",
    "csv_file_path = \"../data/raw/perfumes_table.csv\"\n",
    "output_json_path = \"../data/clean/cleaned_data.json\"\n",
    "process_csv(csv_file_path, output_json_path)"
   ]
  },
  {
   "cell_type": "markdown",
   "metadata": {},
   "source": [
    "### Description du dataset\n",
    "\n",
    "#### Type de données, taille, prétraitement effectué (ex. : tokenisation, lemmatisation, suppression des stopwords, etc.)\n",
    "    - Type de données : \n",
    "        - dataset obtenu sur Kaggle, et issu du web-scraping du site Fragantica en été 2023, présenté dans un fichier au format CSV\n",
    "        - on y trouve des informations sur 84 144 parfums répertoriés sur Fragantica \n",
    "        - pour chaque parfum, on a les informations suivantes :\n",
    "            - la moyenne des notes (sur 5) que peuvent données les utilisateurs de Fragantica,\n",
    "            - les fragrances ou notes olfactives,\n",
    "            - la marque,\n",
    "            - les commentaires que les utilisateurs ont laissé,\n",
    "            - la description du parfum qu'on retrouve sur la page web,\n",
    "            - l'URL de la page web,\n",
    "            - le titre de la page web\n",
    "            \n",
    "    - Taille : 690,8 Mio avant prétraitement et 768,3 Mio après\n",
    "    \n",
    "    - Prétraitement effectué, on a un fichier JSON avec : \n",
    "        - nettoyage des données (suppression des informations inutiles)\n",
    "        - extraction du nom et du genre à partir du titre de la page pour chaque parfum et création de ces colonnes et ajout au dataset pour faciliter la suite du travail\n",
    "        - après traitement on a donc pour chaque commentaire :\n",
    "            - l'ID (int),\n",
    "            - le commentaire (contenu textuel donc chaine de caractères),\n",
    "            - le genre du public visé du parfum sur lequel le commentaire a été laissé ('unisex, 'male', female')\n",
    "\n",
    "\n",
    "#### Description statistique (distribution des classes, fréquence des mots, longueur moyenne des commentaires, etc.) et qualitative (exemples typiques, difficultés linguistiques, caractéristiques particulières) : juste en dessous"
   ]
  },
  {
   "cell_type": "code",
   "execution_count": 21,
   "metadata": {},
   "outputs": [],
   "source": [
    "#visualisation graphique de la distribution des reviews\n",
    "import json\n",
    "import matplotlib.pyplot as plt\n",
    "import seaborn as sns\n",
    "from collections import Counter\n",
    "from typing import List, Dict\n",
    "import nltk\n",
    "import numpy as np\n",
    "\n",
    "#ouvrir le json clean\n",
    "def load_data(json_path: str):\n",
    "    with open(json_path, mode=\"r\", encoding=\"utf-8\") as file:\n",
    "        data = json.load(file)\n",
    "    return data\n",
    "\n",
    "def get_gender_distribution(data: List[dict]) -> Counter:\n",
    "    genders = [review[\"gender\"] for review in data]\n",
    "    return Counter(genders)\n",
    "\n",
    "#review lengths in nb of tokens\n",
    "def get_review_lengths(data: List[dict]) -> List[int]:\n",
    "    review_lengths = []\n",
    "    for review in data:\n",
    "        content = review[\"content\"]\n",
    "        tokens = nltk.word_tokenize(content)\n",
    "        review_lengths.append(len(tokens))\n",
    "    return review_lengths\n",
    "\n",
    "def plot_gender_distribution(gender_counts: Counter, output_path):\n",
    "    labels = gender_counts.keys()\n",
    "    values = gender_counts.values()\n",
    "\n",
    "    plt.figure(figsize=(8, 6))\n",
    "    sns.barplot(x=list(labels), y=list(values), palette=\"viridis\")\n",
    "    plt.xlabel(\"Gender Category\")\n",
    "    plt.ylabel(\"Number of Reviews\")\n",
    "    plt.title(\"Distribution of Gender Categories (Men, Women, Unisex)\")\n",
    "    plt.savefig(output_path)\n",
    "    plt.show()\n"
   ]
  },
  {
   "cell_type": "code",
   "execution_count": 22,
   "metadata": {},
   "outputs": [
    {
     "name": "stderr",
     "output_type": "stream",
     "text": [
      "/var/folders/my/cpx2yr615539_gmrd12j8xw80000gn/T/ipykernel_51848/4280196646.py:34: FutureWarning: \n",
      "\n",
      "Passing `palette` without assigning `hue` is deprecated and will be removed in v0.14.0. Assign the `x` variable to `hue` and set `legend=False` for the same effect.\n",
      "\n",
      "  sns.barplot(x=list(labels), y=list(values), palette=\"viridis\")\n"
     ]
    },
    {
     "data": {
      "image/png": "[encoded data removed]",
      "text/plain": [
       "<Figure size 800x600 with 1 Axes>"
      ]
     },
     "metadata": {},
     "output_type": "display_data"
    }
   ],
   "source": [
    "data = load_data(\"../data/clean/cleaned_data.json\")\n",
    "gender_counts = get_gender_distribution(data)\n",
    "plot_gender_distribution(gender_counts, \"../plots/gender_distribution.png\")"
   ]
  },
  {
   "cell_type": "markdown",
   "metadata": {},
   "source": [
    "### Nettoyage du JSON\n",
    "Suppression des reviews de moins de 10 tokens soit une phrase. "
   ]
  },
  {
   "cell_type": "code",
   "execution_count": null,
   "metadata": {},
   "outputs": [],
   "source": [
    "import json\n",
    "\n",
    "with open(\"../data/clean/cleaned_data.json\", \"r\") as file:\n",
    "    data = json.load(file)\n",
    "\n",
    "# Fonction pour compter le nombre de tokens (mots) dans une phrase\n",
    "def token_count(review):\n",
    "    return len(review.split())\n",
    "\n",
    "# Filtrer les avis avec au moins 10 tokens\n",
    "cleaned_data = [item for item in data if token_count(item[\"content\"]) >= 10]\n",
    "\n",
    "# Enregistrer le JSON nettoyé\n",
    "with open(\"../data/clean/perfume_reviews_cleaned.json\", \"w\") as file:\n",
    "    json.dump(cleaned_data, file, indent=4)\n",
    "\n",
    "print(f\"Nettoyage terminé. Nombre d'entrées restantes : {len(cleaned_data)}\")"
   ]
  },
  {
   "cell_type": "markdown",
   "metadata": {},
   "source": [
    "### Equilibrage du Dataset \n",
    "Notre objectif est donc de rééquilibrer le dataset afin que chaque classe (male, female, unisex dans ce cas) ait le même nombre d’exemples. Cela permet au modèle d’apprendre de manière égale sur chaque genre, améliorant ainsi sa capacité à faire des prédictions justes pour chaque catégorie.\n"
   ]
  },
  {
   "cell_type": "code",
   "execution_count": null,
   "metadata": {},
   "outputs": [],
   "source": [
    "import json\n",
    "from collections import Counter\n",
    "import random\n",
    "\n",
    "# Charger le fichier JSON nettoyé\n",
    "with open(\"../data/clean/perfume_reviews_cleaned.json\", \"r\") as file:\n",
    "    data = json.load(file)\n",
    "\n",
    "# Compter le nombre d'entrées pour chaque genre\n",
    "gender_counts = Counter(item[\"gender\"] for item in data)\n",
    "print(\"Nombre d'entrées par genre avant équilibrage:\", gender_counts)\n",
    "\n",
    "# Déterminer la taille minimale (nombre d'entrées pour 'male')\n",
    "min_count = gender_counts[\"male\"]\n",
    "\n",
    "# Créer des sous-échantillons pour chaque genre\n",
    "balanced_data = []\n",
    "for gender in gender_counts:\n",
    "    # Filtrer les avis par genre\n",
    "    entries = [item for item in data if item[\"gender\"] == gender]\n",
    "    # Si le nombre d'entrées est supérieur au minimum, réduire aléatoirement\n",
    "    if len(entries) > min_count:\n",
    "        entries = random.sample(entries, min_count)\n",
    "    balanced_data.extend(entries)\n",
    "\n",
    "# Mélanger les données pour éviter tout ordre prévisible\n",
    "random.shuffle(balanced_data)\n",
    "\n",
    "# Sauvegarder le dataset équilibré\n",
    "with open(\"perfume_reviews_balanced.json\", \"w\") as file:\n",
    "    json.dump(balanced_data, file, indent=4)\n",
    "\n",
    "print(\"Équilibrage terminé. Nombre d'entrées par genre après équilibrage:\")\n",
    "print(Counter(item[\"gender\"] for item in balanced_data))"
   ]
  },
  {
   "cell_type": "markdown",
   "metadata": {},
   "source": [
    "##  Présentation de l'outil"
   ]
  },
  {
   "cell_type": "markdown",
   "metadata": {},
   "source": [
    "SVM\n",
    "\n",
    "Présentation de l'outil : Support Vector Machine (SVM)\n",
    "Description et Fonctionnalités\n",
    "\n",
    "La machine à vecteurs de support (SVM) est un algorithme de classification supervisée qui cherche à trouver un hyperplan optimal séparant les classes de données, maximisant ainsi la marge entre les données des différentes classes. Dans les tâches de traitement de texte, comme la classification de commentaires de produits en fonction du genre du parfum, SVM est particulièrement utile pour sa capacité à gérer des données de haute dimension, caractéristiques des représentations textuelles.\n",
    "\n",
    "Fonctionnalités principales :\n",
    "\n",
    "    Classification binaire et multiclasse : SVM peut être utilisé pour des problèmes de classification à deux classes (comme \"masculin\" vs \"féminin\") ou avec plusieurs classes (par exemple, \"masculin\", \"féminin\", \"unisex\").\n",
    "    Support de noyaux personnalisés : Pour les données complexes, SVM utilise des fonctions de noyau pour projeter les données dans un espace de dimension supérieure où elles deviennent séparables. Les noyaux les plus courants sont le noyau linéaire, le noyau radial (RBF), et le noyau polynomial.\n",
    "    Paramètre C : Ce paramètre de régularisation permet de gérer le compromis entre maximisation de la marge et minimisation des erreurs de classification.\n",
    "    Robustesse aux données bruitées : Le modèle peut ignorer certains points de données mal classés si cela permet d'obtenir une meilleure séparation des classes globales.\n",
    "\n",
    "Configuration et Prétraitement des Données\n",
    "\n",
    "Pour une tâche de classification de texte comme celle-ci, il est nécessaire de transformer les données textuelles en une représentation numérique. Les techniques courantes sont :\n",
    "\n",
    "    TF-IDF (Term Frequency - Inverse Document Frequency) : Cette méthode calcule une valeur pour chaque mot dans chaque document, en fonction de sa fréquence et de sa rareté dans l'ensemble des documents. Cela permet de pondérer les mots importants pour chaque document.\n",
    "    Word Embeddings : Utiliser des vecteurs d'incorporation comme Word2Vec ou GloVe pour représenter chaque mot. Bien que ces méthodes soient plus complexes, elles capturent mieux la sémantique, mais pour un premier modèle, TF-IDF est souvent efficace et rapide à implémenter.\n",
    "    Nettoyage des données textuelles : Enlever les stopwords, lemmatiser les mots pour réduire les variations morphologiques, et nettoyer les données inutiles (caractères spéciaux, ponctuation, etc.).\n",
    "\n",
    "Avantages pour la classification des commentaires\n",
    "\n",
    "    Robustesse dans les espaces de grande dimension : SVM est très adapté pour les tâches de traitement de texte, où chaque mot ou ensemble de mots peut constituer une dimension.\n",
    "    Flexibilité : Grâce aux noyaux, SVM peut adapter ses frontières de décision à des données textuelles non linéaires.\n",
    "    Adapté aux classes déséquilibrées : Le paramètre de régularisation C permet d'ajuster la tolérance aux erreurs, utile si certains genres sont moins représentés que d'autres.\n",
    "\n",
    "Inconvénients pour la tâche\n",
    "\n",
    "    Complexité computationnelle : SVM peut être coûteux en ressources pour de très grands ensembles de données comme celui-ci, bien qu'il reste performant pour des sous-ensembles de données ou après une réduction dimensionnelle.\n",
    "    Sensibilité aux paramètres : Les performances de SVM dépendent des choix de noyau, C, et gamma, ce qui nécessite souvent de nombreux essais pour obtenir une bonne configuration.\n",
    "    Interprétabilité : Contrairement aux modèles de régression logistique ou aux arbres de décision, SVM est moins interprétable, surtout avec des noyaux non linéaires.\n",
    "\n",
    "Justification du Choix de SVM pour la Classification des Commentaires de Parfums\n",
    "\n",
    "SVM a été choisi en raison de son efficacité dans les tâches de classification de texte et sa capacité à séparer des classes qui peuvent être non linéaires, un aspect pertinent pour les commentaires de parfums où le vocabulaire peut varier en fonction du genre. Pour la classification de textes courts en genres, le SVM offre un bon compromis entre performance et complexité, tout en restant moins sensible aux variations syntaxiques ou sémantiques que d'autres méthodes."
   ]
  },
  {
   "cell_type": "markdown",
   "metadata": {},
   "source": [
    "### SVM"
   ]
  },
  {
   "cell_type": "code",
   "execution_count": 4,
   "metadata": {},
   "outputs": [
    {
     "name": "stdout",
     "output_type": "stream",
     "text": [
      "Accuracy: 0.6715\n",
      "Classification Report:\n",
      "               precision    recall  f1-score   support\n",
      "\n",
      "        male       0.71      0.72      0.72      2002\n",
      "      female       0.70      0.72      0.71      1996\n",
      "      unisex       0.61      0.57      0.59      2002\n",
      "\n",
      "    accuracy                           0.67      6000\n",
      "   macro avg       0.67      0.67      0.67      6000\n",
      "weighted avg       0.67      0.67      0.67      6000\n",
      "\n"
     ]
    },
    {
     "data": {
      "image/png": "[encoded data removed]",
      "text/plain": [
       "<Figure size 1000x600 with 1 Axes>"
      ]
     },
     "metadata": {},
     "output_type": "display_data"
    }
   ],
   "source": [
    "from sklearn.model_selection import train_test_split\n",
    "from sklearn.feature_extraction.text import TfidfVectorizer\n",
    "from sklearn.svm import SVC\n",
    "from sklearn.metrics import classification_report, accuracy_score\n",
    "import json\n",
    "import matplotlib.pyplot as plt\n",
    "import numpy as np\n",
    "from collections import defaultdict\n",
    "import random\n",
    "\n",
    "# Charger les données JSON\n",
    "with open(\"../data/clean/perfume_reviews_cleaned.json\", \"r\") as file:\n",
    "    data = json.load(file)\n",
    "\n",
    "# Organiser les exemples par genre\n",
    "gender_mapping = {\"male\": 0, \"female\": 1, \"unisex\": 2}\n",
    "grouped_data = defaultdict(list)\n",
    "\n",
    "for item in data:\n",
    "    if item[\"gender\"] in gender_mapping:\n",
    "        grouped_data[item[\"gender\"]].append(item)\n",
    "\n",
    "# Assurer un échantillon équilibré de 10 000 exemples\n",
    "balanced_data = []\n",
    "sample_size = 10000  \n",
    "for gender, items in grouped_data.items():\n",
    "\n",
    "    balanced_data.extend(random.sample(items, min(sample_size, len(items))))\n",
    "\n",
    "\n",
    "# Extraire les avis et les genres pour les données équilibrées\n",
    "reviews = [item[\"content\"] for item in balanced_data]\n",
    "genders = [item[\"gender\"] for item in balanced_data]\n",
    "y = [gender_mapping[gender] for gender in genders]\n",
    "\n",
    "# Diviser les données en ensembles d'entraînement et de test\n",
    "X_train, X_test, y_train, y_test = train_test_split(reviews, y, test_size=0.2, random_state=42)\n",
    "\n",
    "# Vectorisation des avis avec TF-IDF\n",
    "vectorizer = TfidfVectorizer()\n",
    "X_train_tfidf = vectorizer.fit_transform(X_train)\n",
    "X_test_tfidf = vectorizer.transform(X_test)\n",
    "\n",
    "# Entraîner le modèle SVM\n",
    "model = SVC(kernel='linear')\n",
    "model.fit(X_train_tfidf, y_train)\n",
    "\n",
    "# Prédire sur les données de test\n",
    "y_pred = model.predict(X_test_tfidf)\n",
    "\n",
    "# Évaluer le modèle\n",
    "print(\"Accuracy:\", accuracy_score(y_test, y_pred))\n",
    "\n",
    "# Générer le rapport de classification en fonction des classes présentes\n",
    "present_classes = sorted(set(y_test))  # Obtenir les classes présentes dans y_test\n",
    "target_names = [list(gender_mapping.keys())[list(gender_mapping.values()).index(i)] for i in present_classes]\n",
    "report = classification_report(y_test, y_pred, labels=present_classes, target_names=target_names, output_dict=True)\n",
    "print(\"Classification Report:\\n\", classification_report(y_test, y_pred, labels=present_classes, target_names=target_names))\n",
    "\n",
    "# Visualiser les métriques de chaque classe\n",
    "metrics = [\"precision\", \"recall\", \"f1-score\"]\n",
    "x = np.arange(len(target_names))  # Position pour chaque classe\n",
    "width = 0.2  # Largeur des barres\n",
    "\n",
    "fig, ax = plt.subplots(figsize=(10, 6))\n",
    "\n",
    "# Ajouter une barre pour chaque métrique\n",
    "for i, metric in enumerate(metrics):\n",
    "    values = [report[cls][metric] for cls in target_names]\n",
    "    ax.bar(x + i * width, values, width, label=metric)\n",
    "\n",
    "# Paramétrage des axes et légendes\n",
    "ax.set_xlabel('Genres')\n",
    "ax.set_ylabel('Scores')\n",
    "ax.set_title('Classification Metrics for Each Genre')\n",
    "ax.set_xticks(x + width)\n",
    "ax.set_xticklabels(target_names)\n",
    "ax.legend()\n",
    "\n",
    "# Afficher le graphique\n",
    "plt.show()"
   ]
  },
  {
   "cell_type": "code",
   "execution_count": null,
   "metadata": {},
   "outputs": [],
   "source": []
  }
 ],
 "metadata": {
  "kernelspec": {
   "display_name": "TP2_script",
   "language": "python",
   "name": "python3"
  },
  "language_info": {
   "codemirror_mode": {
    "name": "ipython",
    "version": 3
   },
   "file_extension": ".py",
   "mimetype": "text/x-python",
   "name": "python",
   "nbconvert_exporter": "python",
   "pygments_lexer": "ipython3",
   "version": "3.10.0"
  }
 },
 "nbformat": 4,
 "nbformat_minor": 4
}
