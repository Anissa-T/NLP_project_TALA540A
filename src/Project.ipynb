{
 "cells": [
  {
   "cell_type": "markdown",
   "id": "a9f9c2e2-4e01-4a92-859a-75c898567cf5",
   "metadata": {},
   "source": [
    "# Examen Projet NLP TALA540A "
   ]
  },
  {
   "cell_type": "markdown",
   "id": "b05ffb81-eaf7-41f5-afca-921a485ac16f",
   "metadata": {},
   "source": [
    "## Auteurs :\n",
    "- AROUN Jeevya\n",
    "- NGAUV Nicolas\n",
    "- THEZENAS Anissa"
   ]
  },
  {
   "cell_type": "markdown",
   "id": "ca953fba-032a-4822-8b49-3fdbb0cf8335",
   "metadata": {},
   "source": [
    "## I) Présentation, visualisation, nettoyage/réorganisation et analyse du dataset"
   ]
  },
  {
   "cell_type": "markdown",
   "id": "5110c9e8-4abf-4b28-94cd-29077dbb6536",
   "metadata": {},
   "source": [
    "### 1. Présentation du dataset\n",
    "\n",
    "- Utilisation de Kaggle dans le projet\n",
    "\n",
    "Nous avions initialement envisagé de constituer notre propre jeu de données en extrayant, via un script de web scraping, les informations qui nous intéressaient sur le site Fragrantica. Malheureusement, nous n’avons pas pu accéder aux commentaires des utilisateurs, une composante essentielle pour notre projet d’analyse. Après plusieurs tentatives infructueuses pour récupérer ces données, nous avons finalement décidé d’utiliser un jeu de données déjà disponible, que nous avons trouvé sur Kaggle. Voici le lien vers ce dataset : [Fragrantica Data sur Kaggle](https://www.kaggle.com/datasets/joehusseinmama/fragrantica-data).\n",
    "\n",
    "- Importance de Kaggle pour le NLP\n",
    "\n",
    "Kaggle est une plateforme précieuse pour la communauté de l’apprentissage automatique et du traitement du langage naturel (NLP), car elle offre un vaste choix de jeux de données, des ressources et des tutoriels partagés par des praticiens du monde entier. Pour des projets NLP, Kaggle fournit souvent des ensembles de données annotés et prêts à l’emploi, permettant ainsi de se concentrer sur l’entraînement et l’optimisation des modèles sans passer par une phase de collecte et de prétraitement longue (mais nous allons tout de même effectuer une réorganisation et un nettoyage de notre dataset pour faciliter la suite de notre travail).\n",
    "\n",
    "- Jeu de données Fragrantica\n",
    "\n",
    "Le jeu de données Fragrantica utilisé ici contient des descriptions et caractéristiques de parfums, ce qui offre une base solide pour notre analyse de texte, essentielle dans notre projet de NLP.\n",
    "\n",
    "- Avantages de l'utilisation de Kaggle\n",
    "\n",
    "Grâce à cette ressource, nous pouvons ainsi avancer efficacement dans nos expérimentations et analyses sans les contraintes liées au scraping et à la collecte de données directement depuis des sites comme Fragrantica."
   ]
  },
  {
   "cell_type": "markdown",
   "id": "a7d083fa-28ae-4fe7-8e06-49a74000728a",
   "metadata": {},
   "source": [
    "### 2. Visualisation du dataset"
   ]
  },
  {
   "cell_type": "code",
   "execution_count": 1,
   "id": "4f26f1ef-026a-4999-a2b3-350ce9bb9e13",
   "metadata": {},
   "outputs": [
    {
     "name": "stdout",
     "output_type": "stream",
     "text": [
      "Voici les 4 premières lignes du dataset :\n",
      "\n",
      "   rating                                              notes  \\\n",
      "0    5.00  ['Vanila', 'Madagascar Vanilla', 'Vanilla Abso...   \n",
      "1    4.22  ['Mint', 'Lavender', 'Nutmeg', 'elemi', 'Cypre...   \n",
      "2    3.81              ['Neroli', 'Vetiver', 'Basil', 'Fig']   \n",
      "3    4.00  ['Orange Blossom', 'Star Anise', 'Pear', 'Rose...   \n",
      "4    4.22  ['Petitgrain', 'Orange', 'Bergamot', 'Lemon Ve...   \n",
      "\n",
      "                                    designer  \\\n",
      "0             fiorucci perfumes and colognes   \n",
      "1        maiora parfum perfumes and colognes   \n",
      "2             guerlain perfumes and colognes   \n",
      "3   jean paul gaultier perfumes and colognes   \n",
      "4  santa maria novella perfumes and colognes   \n",
      "\n",
      "                                             reviews  \\\n",
      "0                                                 []   \n",
      "1                                                 []   \n",
      "2  [\"the opening is too sharp that it reminds me ...   \n",
      "3  ['I must ask. What part of the country did thi...   \n",
      "4  ['Beautiful and uplifting. Initially fresh and...   \n",
      "\n",
      "                                         description  \\\n",
      "0  Vanilla Scent by Fiorucci is a Amber Vanilla f...   \n",
      "1  Shady by Maiora Parfum is a fragrance for wome...   \n",
      "2  Nerolia Vetiver by Guerlain is a Woody Floral ...   \n",
      "3  Classique Love Actually by Jean Paul Gaultier ...   \n",
      "4  Zagara (Orange Blossom) by Santa Maria Novella...   \n",
      "\n",
      "                                                 url  \\\n",
      "0  https://www.fragrantica.com/perfume/Fiorucci/V...   \n",
      "1  https://www.fragrantica.com/perfume/Maiora-Par...   \n",
      "2  https://www.fragrantica.com/perfume/Guerlain/N...   \n",
      "3  https://www.fragrantica.com/perfume/Jean-Paul-...   \n",
      "4  https://www.fragrantica.com/perfume/Santa-Mari...   \n",
      "\n",
      "                                               title  \n",
      "0           Vanilla Scent Fiorucci for women and men  \n",
      "1              Shady Maiora Parfum for women and men  \n",
      "2         Nerolia Vetiver Guerlain for women and men  \n",
      "3  Classique Love Actually Jean Paul Gaultier for...  \n",
      "4  Zagara (Orange Blossom) Santa Maria Novella fo...  \n",
      "====================================================================================================\n",
      "\n",
      "Informations sur le dataset :\n",
      "\n",
      "<class 'pandas.core.frame.DataFrame'>\n",
      "RangeIndex: 84144 entries, 0 to 84143\n",
      "Data columns (total 7 columns):\n",
      " #   Column       Non-Null Count  Dtype  \n",
      "---  ------       --------------  -----  \n",
      " 0   rating       2474 non-null   float64\n",
      " 1   notes        84144 non-null  object \n",
      " 2   designer     84144 non-null  object \n",
      " 3   reviews      84144 non-null  object \n",
      " 4   description  84136 non-null  object \n",
      " 5   url          84144 non-null  object \n",
      " 6   title        84136 non-null  object \n",
      "dtypes: float64(1), object(6)\n",
      "memory usage: 4.5+ MB\n",
      "None\n",
      "====================================================================================================\n"
     ]
    }
   ],
   "source": [
    "import pandas as pd\n",
    "\n",
    "def charger_dataset(fichier_csv):\n",
    "    # Charger le fichier CSV dans un DataFrame\n",
    "    df = pd.read_csv(fichier_csv)\n",
    "\n",
    "    # Observer les 4 premières lignes\n",
    "    print(\"Voici les 4 premières lignes du dataset :\\n\")\n",
    "    print(df.head())\n",
    "    print(\"=\"*100)\n",
    "\n",
    "    # Vérification des colonnes vides ou des données manquantes\n",
    "    print(\"\\nInformations sur le dataset :\\n\")\n",
    "    print(df.info())\n",
    "    print(\"=\"*100)\n",
    "\n",
    "    return df\n",
    "\n",
    "\n",
    "# Définir le chemin du fichier CSV\n",
    "fichier_csv = '../data/perfumes_table.csv'  \n",
    "\n",
    "# Charger et nettoyer le dataset\n",
    "dataset = charger_dataset(fichier_csv)\n"
   ]
  },
  {
   "cell_type": "markdown",
   "id": "08053daf-ae6d-471e-8eef-9474ebb491ca",
   "metadata": {},
   "source": [
    "### 3. Nettoyage/Réorganisation/Prétraitement du dataset\n",
    "- Cela nous arrangerait pour la suite d'avoir pour chaque parfum son nom et le genre du public visé par celui-ci : on va donc créer ces colonnes\n",
    "- On va aussi nettoyer le colonne 'designer' qui contient de l'information superflue sur pratiquement toutes les lignes (on veut juste le nom de la marque, mais on a en plus \" perfumes an colognes\") :  toujours la même info superflue, donc ne discrimine pas, donc pas intéressant, donc on enlève"
   ]
  },
  {
   "cell_type": "code",
   "execution_count": 2,
   "id": "1680885f-cea4-479a-ac3b-d30b21e70c2e",
   "metadata": {},
   "outputs": [
    {
     "name": "stdout",
     "output_type": "stream",
     "text": [
      "Les colonnes 'name' et 'genre' ont été ajoutées et déplacées en premières positions, 'designer' a été nettoyée, et la chaîne de 'designer' a été supprimée de 'name' sans tenir compte de la casse.\n"
     ]
    }
   ],
   "source": [
    "import pandas as pd\n",
    "import re  \n",
    "\n",
    "# Charger le fichier CSV\n",
    "df = pd.read_csv('../data/perfumes_table.csv')\n",
    "\n",
    "# Fonction pour extraire le nom du parfum et le genre depuis 'title'\n",
    "def extraire_nom_et_genre(title):\n",
    "    if isinstance(title, str):  # Vérifie si 'title' est une chaîne de caractères\n",
    "        if \" for women and men\" in title:\n",
    "            return title.replace(\" for women and men\", \"\"), \"for women and men\"\n",
    "        elif \" for women\" in title:\n",
    "            return title.replace(\" for women\", \"\"), \"for women\"\n",
    "        elif \" for men\" in title:\n",
    "            return title.replace(\" for men\", \"\"), \"for men\"\n",
    "        else:\n",
    "            return title, \"unknown\"  # Genre inconnu si non précisé\n",
    "    else:\n",
    "        return title, \"unknown\"  # Valeurs par défaut pour les titres NaN\n",
    "\n",
    "# Appliquer la fonction et renseigner les nouvelles colonnes\n",
    "df[['name', 'genre']] = df['title'].apply(lambda x: pd.Series(extraire_nom_et_genre(x)))\n",
    "\n",
    "# Supprimer \" perfumes and colognes\" à la fin de la colonne 'designer' si présent\n",
    "df['designer'] = df['designer'].str.replace(\" perfumes and colognes$\", \"\", regex=True)\n",
    "\n",
    "# Supprimer, pour chaque ligne de 'name', la chaîne de caractères de 'designer' sans tenir compte de la casse\n",
    "df['name'] = df.apply(lambda row: re.sub(re.escape(str(row['designer'])), \"\", str(row['name']), flags=re.IGNORECASE).strip() if pd.notnull(row['designer']) else row['name'], axis=1)\n",
    "\n",
    "# Réorganiser les colonnes en mettant 'name' et 'genre' en première et deuxième position\n",
    "colonnes_ordre = ['name', 'genre'] + [col for col in df.columns if col not in ['name', 'genre']]\n",
    "df = df[colonnes_ordre]\n",
    "\n",
    "# Sauvegarder le DataFrame modifié dans un nouveau fichier CSV\n",
    "df.to_csv('../data/cleaned_perfumes_table.csv', index=False)\n",
    "\n",
    "print(\"Les colonnes 'name' et 'genre' ont été ajoutées et déplacées en premières positions, 'designer' a été nettoyée, et la chaîne de 'designer' a été supprimée de 'name' sans tenir compte de la casse.\")\n"
   ]
  },
  {
   "cell_type": "markdown",
   "id": "d1d106d7-2f70-4f62-a045-6b149d9fc763",
   "metadata": {},
   "source": [
    "### 4) Description du dataset\n",
    "\n",
    "- Type de données, taille, prétraitement effectué (ex. : tokenisation, lemmatisation, suppression des stopwords, etc.)\n",
    "    - Type de données : \n",
    "    - Taille : 690,8 Mio avant prétraitement et 691,2 Mio après\n",
    "    - Prétraitement effectué :\n",
    "\n",
    "- Description statistique (distribution des classes, fréquence des mots, longueur moyenne des commentaires, etc.) et qualitative (exemples typiques, difficultés linguistiques, caractéristiques particulières) : juste en dessous"
   ]
  },
  {
   "cell_type": "code",
   "execution_count": null,
   "id": "eda79d9c-fdb4-4281-9cb3-7300cc09d73b",
   "metadata": {},
   "outputs": [],
   "source": []
  },
  {
   "cell_type": "markdown",
   "id": "a481565c-326b-414a-8113-d88a60ef9bbb",
   "metadata": {},
   "source": [
    "### À partir de maintenant, on va donc utiliser le nouveau dataset contenu dans le fichier '../data/cleaned_perfumes_table.csv' pour la suite du projet"
   ]
  },
  {
   "cell_type": "code",
   "execution_count": null,
   "id": "44032aa7-1c8c-483e-9558-78c123e2fb4f",
   "metadata": {},
   "outputs": [],
   "source": []
  },
  {
   "cell_type": "markdown",
   "id": "91595590-28c5-4a33-982c-d910037e938e",
   "metadata": {},
   "source": [
    "## II) Présentation de l'outil"
   ]
  },
  {
   "cell_type": "code",
   "execution_count": null,
   "id": "59999530-c5fc-4e73-8771-706c3bacc60d",
   "metadata": {},
   "outputs": [],
   "source": []
  },
  {
   "cell_type": "markdown",
   "id": "643e3c4a-ff6f-43f9-9b37-c5a6493bcd41",
   "metadata": {},
   "source": [
    "## III) Mise en oeuvre et évaluation"
   ]
  },
  {
   "cell_type": "code",
   "execution_count": null,
   "id": "b9a42e5f-dbdc-4c14-8559-b4a5bea1858a",
   "metadata": {},
   "outputs": [],
   "source": []
  },
  {
   "cell_type": "markdown",
   "id": "b235bfbc-84db-4632-a545-dfedd037a8e2",
   "metadata": {},
   "source": [
    "## IV) Discussion et analyse"
   ]
  },
  {
   "cell_type": "code",
   "execution_count": null,
   "id": "23c9a348-4470-4ccf-926e-e9872cf00af2",
   "metadata": {},
   "outputs": [],
   "source": []
  }
 ],
 "metadata": {
  "kernelspec": {
   "display_name": "Python 3 (ipykernel)",
   "language": "python",
   "name": "python3"
  },
  "language_info": {
   "codemirror_mode": {
    "name": "ipython",
    "version": 3
   },
   "file_extension": ".py",
   "mimetype": "text/x-python",
   "name": "python",
   "nbconvert_exporter": "python",
   "pygments_lexer": "ipython3",
   "version": "3.10.12"
  }
 },
 "nbformat": 4,
 "nbformat_minor": 5
}
